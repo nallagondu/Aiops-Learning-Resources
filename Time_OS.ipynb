{
  "nbformat": 4,
  "nbformat_minor": 0,
  "metadata": {
    "colab": {
      "name": "Time_OS.ipynb",
      "provenance": [],
      "collapsed_sections": []
    },
    "kernelspec": {
      "name": "python3",
      "display_name": "Python 3"
    },
    "language_info": {
      "name": "python"
    }
  },
  "cells": [
    {
      "cell_type": "code",
      "execution_count": 3,
      "metadata": {
        "id": "r86M_8OIjvp9"
      },
      "outputs": [],
      "source": [
        "import time"
      ]
    },
    {
      "cell_type": "code",
      "source": [
        "time.time()"
      ],
      "metadata": {
        "id": "tHExDgJmmQdF",
        "outputId": "ff345162-1311-4433-d8e7-639ef26343f7",
        "colab": {
          "base_uri": "https://localhost:8080/"
        }
      },
      "execution_count": 4,
      "outputs": [
        {
          "output_type": "execute_result",
          "data": {
            "text/plain": [
              "1662054429.1685224"
            ]
          },
          "metadata": {},
          "execution_count": 4
        }
      ]
    },
    {
      "cell_type": "code",
      "source": [
        "time.sleep(5)"
      ],
      "metadata": {
        "id": "2q8yqSKcn796"
      },
      "execution_count": 5,
      "outputs": []
    },
    {
      "cell_type": "code",
      "source": [
        "tick = time.time()\n",
        "time.sleep(5)\n",
        "tock = time.time()\n",
        "\n",
        "print (tock-tick)"
      ],
      "metadata": {
        "id": "m7LRP_iFn-GH",
        "outputId": "61bdce2d-2196-4c41-974c-b31ec8b2182b",
        "colab": {
          "base_uri": "https://localhost:8080/"
        }
      },
      "execution_count": 6,
      "outputs": [
        {
          "output_type": "stream",
          "name": "stdout",
          "text": [
            "5.005331039428711\n"
          ]
        }
      ]
    },
    {
      "cell_type": "code",
      "source": [
        "import os"
      ],
      "metadata": {
        "id": "fkjTEZ8NoK1Z"
      },
      "execution_count": 7,
      "outputs": []
    },
    {
      "cell_type": "code",
      "source": [
        "print(os.getcwd())"
      ],
      "metadata": {
        "id": "y_tVCXX_oMT5",
        "outputId": "ec52c326-f9b2-44aa-c9a4-9bc9762c7f1b",
        "colab": {
          "base_uri": "https://localhost:8080/"
        }
      },
      "execution_count": 10,
      "outputs": [
        {
          "output_type": "stream",
          "name": "stdout",
          "text": [
            "/content\n"
          ]
        }
      ]
    },
    {
      "cell_type": "markdown",
      "source": [
        "# New section"
      ],
      "metadata": {
        "id": "EpEYnR-CKmHi"
      }
    },
    {
      "cell_type": "markdown",
      "source": [
        "# New section"
      ],
      "metadata": {
        "id": "oPK6FsBBKmjn"
      }
    },
    {
      "cell_type": "code",
      "source": [
        "print(os.listdir('.'))"
      ],
      "metadata": {
        "id": "9ae4fF4joTOk",
        "outputId": "070eb840-fc0a-416a-900c-c9309d05f546",
        "colab": {
          "base_uri": "https://localhost:8080/"
        }
      },
      "execution_count": 9,
      "outputs": [
        {
          "output_type": "stream",
          "name": "stdout",
          "text": [
            "['.config', 'sample_data']\n"
          ]
        }
      ]
    },
    {
      "cell_type": "code",
      "source": [
        "os.chdir(\"sample_data\")"
      ],
      "metadata": {
        "id": "z4iqyX7PoYE2"
      },
      "execution_count": 11,
      "outputs": []
    },
    {
      "cell_type": "code",
      "source": [
        "os.chdir(\"../\")"
      ],
      "metadata": {
        "id": "WaBooEu7oerx"
      },
      "execution_count": 17,
      "outputs": []
    },
    {
      "cell_type": "code",
      "source": [
        "if os.path.exists('README.md'):\n",
        "    print (\"File exists\")"
      ],
      "metadata": {
        "id": "98QnpH5yojp-"
      },
      "execution_count": 16,
      "outputs": []
    },
    {
      "cell_type": "code",
      "source": [
        "os.mkdir(\"new\")"
      ],
      "metadata": {
        "id": "hTbPv331ouii"
      },
      "execution_count": 18,
      "outputs": []
    },
    {
      "cell_type": "code",
      "source": [
        "os.rename('new','new_one')"
      ],
      "metadata": {
        "id": "5D2sN0Seoymn"
      },
      "execution_count": 19,
      "outputs": []
    },
    {
      "cell_type": "code",
      "source": [
        "os.mkdir(\"new_one/new\")"
      ],
      "metadata": {
        "id": "nb4_dLmuo1lP"
      },
      "execution_count": 20,
      "outputs": []
    },
    {
      "cell_type": "code",
      "source": [
        "os.remove('README.md')"
      ],
      "metadata": {
        "id": "LRZHHO0jo7qd"
      },
      "execution_count": 14,
      "outputs": []
    },
    {
      "cell_type": "code",
      "source": [
        "os.rmdir('new_one/new')"
      ],
      "metadata": {
        "id": "L5lFF43YpA1C"
      },
      "execution_count": 21,
      "outputs": []
    },
    {
      "cell_type": "code",
      "source": [
        "import shutil\n",
        "shutil.rmtree('new_one')"
      ],
      "metadata": {
        "id": "1V8RHK6SpDeG"
      },
      "execution_count": 22,
      "outputs": []
    }
  ]
}