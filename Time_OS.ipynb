{
  "nbformat": 4,
  "nbformat_minor": 0,
  "metadata": {
    "colab": {
      "name": "Time_OS.ipynb",
      "provenance": [],
      "collapsed_sections": []
    },
    "kernelspec": {
      "name": "python3",
      "display_name": "Python 3"
    },
    "language_info": {
      "name": "python"
    }
  },
  "cells": [
    {
      "cell_type": "code",
      "execution_count": 1,
      "metadata": {
        "id": "r86M_8OIjvp9"
      },
      "outputs": [],
      "source": [
        "import time"
      ]
    },
    {
      "cell_type": "code",
      "source": [
        "time.time()"
      ],
      "metadata": {
        "id": "tHExDgJmmQdF",
        "outputId": "e1f6137a-14a7-428c-dede-764d4f5f6f26",
        "colab": {
          "base_uri": "https://localhost:8080/"
        }
      },
      "execution_count": 2,
      "outputs": [
        {
          "output_type": "execute_result",
          "data": {
            "text/plain": [
              "1662054057.2729428"
            ]
          },
          "metadata": {},
          "execution_count": 2
        }
      ]
    },
    {
      "cell_type": "code",
      "source": [
        "time.sleep(5)"
      ],
      "metadata": {
        "id": "2q8yqSKcn796"
      },
      "execution_count": null,
      "outputs": []
    },
    {
      "cell_type": "code",
      "source": [
        "tick = time.time()\n",
        "time.sleep(5)\n",
        "tock = time.time()\n",
        "\n",
        "print (tock-tick)"
      ],
      "metadata": {
        "id": "m7LRP_iFn-GH"
      },
      "execution_count": null,
      "outputs": []
    },
    {
      "cell_type": "code",
      "source": [
        "import os"
      ],
      "metadata": {
        "id": "fkjTEZ8NoK1Z"
      },
      "execution_count": null,
      "outputs": []
    },
    {
      "cell_type": "code",
      "source": [
        "print(os.getcwd())"
      ],
      "metadata": {
        "id": "y_tVCXX_oMT5"
      },
      "execution_count": null,
      "outputs": []
    },
    {
      "cell_type": "code",
      "source": [
        "print(os.listdir('.'))"
      ],
      "metadata": {
        "id": "9ae4fF4joTOk"
      },
      "execution_count": null,
      "outputs": []
    },
    {
      "cell_type": "code",
      "source": [
        "os.chdir(\"sample_data\")"
      ],
      "metadata": {
        "id": "z4iqyX7PoYE2"
      },
      "execution_count": null,
      "outputs": []
    },
    {
      "cell_type": "code",
      "source": [
        "os.chdir(\"../\")"
      ],
      "metadata": {
        "id": "WaBooEu7oerx"
      },
      "execution_count": null,
      "outputs": []
    },
    {
      "cell_type": "code",
      "source": [
        "if os.path.exists('README.md'):\n",
        "    print (\"File exists\")"
      ],
      "metadata": {
        "id": "98QnpH5yojp-"
      },
      "execution_count": null,
      "outputs": []
    },
    {
      "cell_type": "code",
      "source": [
        "os.mkdir(\"new\")"
      ],
      "metadata": {
        "id": "hTbPv331ouii"
      },
      "execution_count": null,
      "outputs": []
    },
    {
      "cell_type": "code",
      "source": [
        "os.rename('new','new_one')"
      ],
      "metadata": {
        "id": "5D2sN0Seoymn"
      },
      "execution_count": null,
      "outputs": []
    },
    {
      "cell_type": "code",
      "source": [
        "os.mkdir(\"new_one/new\")"
      ],
      "metadata": {
        "id": "nb4_dLmuo1lP"
      },
      "execution_count": null,
      "outputs": []
    },
    {
      "cell_type": "code",
      "source": [
        "os.remove('README.md')"
      ],
      "metadata": {
        "id": "LRZHHO0jo7qd"
      },
      "execution_count": null,
      "outputs": []
    },
    {
      "cell_type": "code",
      "source": [
        "os.rmdir('new_one/new')"
      ],
      "metadata": {
        "id": "L5lFF43YpA1C"
      },
      "execution_count": null,
      "outputs": []
    },
    {
      "cell_type": "code",
      "source": [
        "import shutil\n",
        "shutil.rmtree('new_one')"
      ],
      "metadata": {
        "id": "1V8RHK6SpDeG"
      },
      "execution_count": null,
      "outputs": []
    }
  ]
}