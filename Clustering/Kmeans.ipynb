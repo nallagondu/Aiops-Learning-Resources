{
  "nbformat": 4,
  "nbformat_minor": 0,
  "metadata": {
    "colab": {
      "name": "Kmeans.ipynb",
      "provenance": [],
      "collapsed_sections": []
    },
    "kernelspec": {
      "name": "python3",
      "display_name": "Python 3"
    },
    "language_info": {
      "name": "python"
    }
  },
  "cells": [
    {
      "cell_type": "code",
      "execution_count": null,
      "metadata": {
        "id": "wMDM9FHi16BH"
      },
      "outputs": [],
      "source": [
        "import matplotlib.pyplot as plt\n",
        "import seaborn as sns\n",
        "import numpy as np\n",
        "from sklearn.cluster import KMeans\n",
        "from sklearn.datasets import make_blobs\n",
        "from pandas import read_csv"
      ]
    },
    {
      "cell_type": "code",
      "source": [
        "sns.set()"
      ],
      "metadata": {
        "id": "Foof9xR42D_e"
      },
      "execution_count": null,
      "outputs": []
    },
    {
      "cell_type": "code",
      "source": [
        "X, y_true = make_blobs(n_samples=400, centers=3, cluster_std=0.60, random_state=0)"
      ],
      "metadata": {
        "id": "nIsIBs3L2Her"
      },
      "execution_count": null,
      "outputs": []
    },
    {
      "cell_type": "code",
      "source": [
        "plt.scatter(X[:, 0], X[:, 1], s=20);\n",
        "plt.show()"
      ],
      "metadata": {
        "id": "Rozwx-6p20Wu"
      },
      "execution_count": null,
      "outputs": []
    },
    {
      "cell_type": "code",
      "source": [
        "kmeans = KMeans(n_clusters=3)\n",
        "kmeans.fit(X)\n",
        "y_kmeans = kmeans.predict(X)"
      ],
      "metadata": {
        "id": "6ad_WKeJ3Uj3"
      },
      "execution_count": null,
      "outputs": []
    },
    {
      "cell_type": "code",
      "source": [
        "plt.scatter(X[:, 0], X[:, 1], c=y_kmeans, s=20, cmap='summer')\n",
        "centers = kmeans.cluster_centers_\n",
        "plt.scatter(centers[:, 0], centers[:, 1], c='blue', s=100, alpha=0.9);\n",
        "plt.show()"
      ],
      "metadata": {
        "id": "SCKIbfdf3Xli"
      },
      "execution_count": null,
      "outputs": []
    },
    {
      "cell_type": "code",
      "source": [
        "cost =[]\n",
        "for i in range(1, 11):\n",
        "    KM = KMeans(n_clusters = i, max_iter = 500)\n",
        "    KM.fit(X)\n",
        "     \n",
        "    # calculates squared error\n",
        "    # for the clustered points\n",
        "    cost.append(KM.inertia_)    \n",
        " \n",
        "# plot the cost against K values\n",
        "plt.plot(range(1, 11), cost, color ='g', linewidth ='3')\n",
        "plt.xlabel(\"Value of K\")\n",
        "plt.ylabel(\"Squared Error (Cost)\")\n",
        "plt.show() # clear the plot"
      ],
      "metadata": {
        "id": "NN-ZP7XK4KZ5"
      },
      "execution_count": null,
      "outputs": []
    },
    {
      "cell_type": "code",
      "source": [
        "!git clone https://github.com/Foursteps-tech/Machine_Learning.git"
      ],
      "metadata": {
        "id": "IPINcu-PgkMz"
      },
      "execution_count": null,
      "outputs": []
    },
    {
      "cell_type": "code",
      "source": [
        "dataframe = read_csv(\"Machine_Learning/Classification/iris.csv\")\n",
        "dataframe.head()"
      ],
      "metadata": {
        "id": "XzTKtCd6_Hc0"
      },
      "execution_count": null,
      "outputs": []
    },
    {
      "cell_type": "code",
      "source": [
        "dataset = dataframe.values\n",
        "data = dataset[:,0:4].astype(float)"
      ],
      "metadata": {
        "id": "98S5fI6K_NJJ"
      },
      "execution_count": null,
      "outputs": []
    },
    {
      "cell_type": "code",
      "source": [
        "model = KMeans(n_clusters=3)\n",
        "model.fit(data)"
      ],
      "metadata": {
        "id": "HvdJpRLq_PfT"
      },
      "execution_count": null,
      "outputs": []
    },
    {
      "cell_type": "code",
      "source": [
        "labels = model.predict(data)\n",
        "print(labels)"
      ],
      "metadata": {
        "id": "NvLroNgn_l3V"
      },
      "execution_count": null,
      "outputs": []
    },
    {
      "cell_type": "code",
      "source": [
        "centroids = model.cluster_centers_"
      ],
      "metadata": {
        "id": "tGL3KC33_vnd"
      },
      "execution_count": null,
      "outputs": []
    },
    {
      "cell_type": "code",
      "source": [
        "plt.scatter(data[:, 0], data[:, 1], c=labels, cmap='rainbow')\n",
        "plt.scatter(centroids[:, 0], centroids[:, 1], c='blue', s=100, alpha=0.9)\n",
        "plt.show()"
      ],
      "metadata": {
        "id": "bzirsinK_6AZ"
      },
      "execution_count": null,
      "outputs": []
    }
  ]
}