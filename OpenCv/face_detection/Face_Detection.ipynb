{
  "nbformat": 4,
  "nbformat_minor": 0,
  "metadata": {
    "colab": {
      "name": "Face_Detection.ipynb",
      "provenance": [],
      "collapsed_sections": []
    },
    "kernelspec": {
      "name": "python3",
      "display_name": "Python 3"
    }
  },
  "cells": [
    {
      "cell_type": "markdown",
      "metadata": {
        "id": "AOsedvt8TOMb"
      },
      "source": [
        "# **Face Detection  - Viola-Jones Method**"
      ]
    },
    {
      "cell_type": "markdown",
      "metadata": {
        "id": "R3L3bAkbWf48"
      },
      "source": [
        "![](https://drive.google.com/uc?export=view&id=1YSiue_HkgabePWSJSk_dfXkc_htbFx68)"
      ]
    },
    {
      "cell_type": "markdown",
      "metadata": {
        "id": "LVrAN-YqWtLD"
      },
      "source": [
        "![](https://drive.google.com/uc?export=view&id=1UzzB3lBsy9ewAv1u03iuAwnnqjdTZE5L)\n",
        "\n"
      ]
    },
    {
      "cell_type": "markdown",
      "metadata": {
        "id": "MdT61EtFX5VS"
      },
      "source": [
        "![](https://drive.google.com/uc?export=view&id=1xcz5AM58oplvDsMa4Mx6Oc97THLY5_bx)"
      ]
    },
    {
      "cell_type": "markdown",
      "metadata": {
        "id": "qOp3MKY8YKXH"
      },
      "source": [
        "***Use Adaboost to get the right Features (Filters that has less error rate)***"
      ]
    },
    {
      "cell_type": "markdown",
      "metadata": {
        "id": "73orVhtmFA_M"
      },
      "source": [
        "**Finally Apply Cascade to skip the non face region and focus filters on face region**"
      ]
    },
    {
      "cell_type": "code",
      "metadata": {
        "id": "fUgCF11kTM29"
      },
      "source": [
        "!git clone https://github.com/Foursteps-tech/Machine_Learning.git"
      ],
      "execution_count": null,
      "outputs": []
    },
    {
      "cell_type": "code",
      "metadata": {
        "id": "Mf0VF0IeTZso"
      },
      "source": [
        "!pip uninstall -y opencv-python"
      ],
      "execution_count": null,
      "outputs": []
    },
    {
      "cell_type": "code",
      "metadata": {
        "id": "yDqG0k3RTcku"
      },
      "source": [
        "!pip install opencv-python==3.4.3.18"
      ],
      "execution_count": null,
      "outputs": []
    },
    {
      "cell_type": "code",
      "metadata": {
        "id": "Flb9t_DYTeO6"
      },
      "source": [
        "# import the necessary packages\n",
        "from imutils import paths\n",
        "import cv2\n",
        "from google.colab.patches import cv2_imshow"
      ],
      "execution_count": null,
      "outputs": []
    },
    {
      "cell_type": "code",
      "metadata": {
        "id": "iG7_eDywTkxN"
      },
      "source": [
        "# load the face detector\n",
        "detector = cv2.CascadeClassifier(\"/content/Machine_Learning/OpenCv/face_detection/cascades/haarcascade_frontalface_default.xml\")\n",
        "\n",
        "image_paths = \"/content/Machine_Learning/OpenCv/face_detection/images/\""
      ],
      "execution_count": null,
      "outputs": []
    },
    {
      "cell_type": "code",
      "metadata": {
        "id": "V1U5uz6QT5AY"
      },
      "source": [
        "# Loop on images for detecting face\n",
        "for path in sorted(list(paths.list_images(image_paths))):\n",
        "\n",
        "\tframe = cv2.imread(path)\n",
        "\n",
        "\tgray = cv2.cvtColor(frame, cv2.COLOR_BGR2GRAY)\n",
        "\t\n",
        "\tfaceRects = detector.detectMultiScale(gray, scaleFactor=1.05, minNeighbors=5, minSize=(30, 30), flags=cv2.CASCADE_SCALE_IMAGE)\n",
        "\n",
        "\t# loop over the faces and draw a rectangle around each\n",
        "\tfor (x, y, w, h) in faceRects:\n",
        "\t\tcv2.rectangle(frame, (x, y), (x + w, y + h), (255,0, 0), 3)\n",
        "\t\n",
        "\tno_of_face = len(faceRects)\n",
        "\n",
        "\tcv2.putText(frame, \"Face Detected -  \"+str(no_of_face), (30, 50), cv2.FONT_HERSHEY_SIMPLEX, 0.8, (0, 255, 0), 2)\t\n",
        "\tcv2_imshow(frame)"
      ],
      "execution_count": null,
      "outputs": []
    }
  ]
}