{
  "nbformat": 4,
  "nbformat_minor": 0,
  "metadata": {
    "colab": {
      "name": "Strings.ipynb",
      "provenance": [],
      "collapsed_sections": [],
      "include_colab_link": true
    },
    "kernelspec": {
      "name": "python3",
      "display_name": "Python 3"
    }
  },
  "cells": [
    {
      "cell_type": "markdown",
      "metadata": {
        "id": "view-in-github",
        "colab_type": "text"
      },
      "source": [
        "<a href=\"https://colab.research.google.com/github/nallagondu/Aiops-Learning-Resources/blob/main/Strings.ipynb\" target=\"_parent\"><img src=\"https://colab.research.google.com/assets/colab-badge.svg\" alt=\"Open In Colab\"/></a>"
      ]
    },
    {
      "cell_type": "markdown",
      "metadata": {
        "id": "7x9D9GhpT2-h"
      },
      "source": [
        "# **String**"
      ]
    },
    {
      "cell_type": "code",
      "metadata": {
        "id": "rvvtaPr0UGOB"
      },
      "source": [
        "a = \"Python\"\n",
        "b = \" is python awesome!\"\n",
        "\n",
        "print(len(a))                        \n",
        "print(len(b)) "
      ],
      "execution_count": null,
      "outputs": []
    },
    {
      "cell_type": "code",
      "metadata": {
        "id": "bE9CvWxCUL7l"
      },
      "source": [
        "print(a + b)                         \n",
        "print(a, b)                          "
      ],
      "execution_count": null,
      "outputs": []
    },
    {
      "cell_type": "code",
      "metadata": {
        "id": "1_JAiZveUssF"
      },
      "source": [
        "print(a.upper())                    \n",
        "print(a.lower())  "
      ],
      "execution_count": null,
      "outputs": []
    },
    {
      "cell_type": "code",
      "metadata": {
        "id": "wxr3LchHUx16"
      },
      "source": [
        "print(b.strip())                     \n",
        "print(b.replace(\"awesome\", \"great\"))"
      ],
      "execution_count": null,
      "outputs": []
    },
    {
      "cell_type": "code",
      "source": [
        "print(' '.join(a))\n",
        "print('-'.join(a))"
      ],
      "metadata": {
        "id": "SuIQQt4w-siU"
      },
      "execution_count": null,
      "outputs": []
    },
    {
      "cell_type": "code",
      "source": [
        "a='Mathematics'"
      ],
      "metadata": {
        "id": "v52jp2jt-59t"
      },
      "execution_count": null,
      "outputs": []
    },
    {
      "cell_type": "code",
      "source": [
        "a[5]"
      ],
      "metadata": {
        "id": "DI2Nl0CX_Riu"
      },
      "execution_count": null,
      "outputs": []
    },
    {
      "cell_type": "code",
      "source": [
        "a[0]"
      ],
      "metadata": {
        "id": "2GChjSYr_HbF"
      },
      "execution_count": null,
      "outputs": []
    },
    {
      "cell_type": "code",
      "source": [
        "a[-1]"
      ],
      "metadata": {
        "id": "EzR-aOIh_UF4"
      },
      "execution_count": null,
      "outputs": []
    },
    {
      "cell_type": "code",
      "source": [
        "a[-3]"
      ],
      "metadata": {
        "id": "tm21GWzC_WNZ"
      },
      "execution_count": null,
      "outputs": []
    },
    {
      "cell_type": "code",
      "source": [
        "a[0:2]"
      ],
      "metadata": {
        "id": "klsWdXre_XZf"
      },
      "execution_count": null,
      "outputs": []
    },
    {
      "cell_type": "code",
      "source": [
        "a[1:5]"
      ],
      "metadata": {
        "id": "NsRydJ58_YeU"
      },
      "execution_count": null,
      "outputs": []
    },
    {
      "cell_type": "code",
      "source": [
        "a[0:]"
      ],
      "metadata": {
        "id": "GaB9f6Q7_ZYt"
      },
      "execution_count": null,
      "outputs": []
    },
    {
      "cell_type": "code",
      "source": [
        "a[:11]"
      ],
      "metadata": {
        "id": "_nvkexDi_aXa"
      },
      "execution_count": null,
      "outputs": []
    },
    {
      "cell_type": "code",
      "source": [
        "a[1:6:2]"
      ],
      "metadata": {
        "id": "uiUyGniy_bZE"
      },
      "execution_count": null,
      "outputs": []
    },
    {
      "cell_type": "code",
      "source": [
        "a[::-1] "
      ],
      "metadata": {
        "id": "E54OD2of_c6I"
      },
      "execution_count": null,
      "outputs": []
    },
    {
      "cell_type": "code",
      "source": [
        "a[-1:-4]"
      ],
      "metadata": {
        "id": "w6QxJ5eF_eBs"
      },
      "execution_count": null,
      "outputs": []
    },
    {
      "cell_type": "code",
      "source": [
        "a[-1:3]"
      ],
      "metadata": {
        "id": "usaFTcqT_gQM"
      },
      "execution_count": null,
      "outputs": []
    },
    {
      "cell_type": "code",
      "source": [
        "a[3:-3] "
      ],
      "metadata": {
        "id": "i2lUJVqG_hLw"
      },
      "execution_count": null,
      "outputs": []
    },
    {
      "cell_type": "code",
      "source": [
        "a[-3:-2]"
      ],
      "metadata": {
        "id": "cA9lZX_z_iz6"
      },
      "execution_count": null,
      "outputs": []
    },
    {
      "cell_type": "code",
      "source": [
        "a[:-4]"
      ],
      "metadata": {
        "id": "35bMdczf_kLR"
      },
      "execution_count": null,
      "outputs": []
    },
    {
      "cell_type": "code",
      "source": [
        "a[-1:]"
      ],
      "metadata": {
        "id": "uZx6CA2d_mTB"
      },
      "execution_count": null,
      "outputs": []
    },
    {
      "cell_type": "code",
      "source": [
        "a[:]"
      ],
      "metadata": {
        "id": "3TDuhjLa_4Uz"
      },
      "execution_count": null,
      "outputs": []
    },
    {
      "cell_type": "code",
      "source": [
        "a[::] "
      ],
      "metadata": {
        "id": "BObooK-A_7rV"
      },
      "execution_count": null,
      "outputs": []
    },
    {
      "cell_type": "code",
      "source": [
        "a[:len(a)]"
      ],
      "metadata": {
        "id": "tzH8wxSr_-GD"
      },
      "execution_count": null,
      "outputs": []
    },
    {
      "cell_type": "code",
      "metadata": {
        "id": "G_7otd7zT15a"
      },
      "source": [
        "if a in b:\n",
        "\tprint (\"True\")\n",
        "else:\n",
        "\tprint (\"false\")"
      ],
      "execution_count": null,
      "outputs": []
    }
  ]
}